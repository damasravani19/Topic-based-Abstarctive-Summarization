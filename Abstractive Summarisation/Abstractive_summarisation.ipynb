{
  "nbformat": 4,
  "nbformat_minor": 0,
  "metadata": {
    "colab": {
      "name": "first50_Abstractive_summarisation.ipynb",
      "provenance": [],
      "collapsed_sections": [],
      "toc_visible": true
    },
    "kernelspec": {
      "name": "python3",
      "display_name": "Python 3"
    },
    "accelerator": "GPU",
    "widgets": {
      "application/vnd.jupyter.widget-state+json": {
        "11038671d4104edfacfc3b6f08fc4791": {
          "model_module": "@jupyter-widgets/controls",
          "model_name": "HBoxModel",
          "state": {
            "_view_name": "HBoxView",
            "_dom_classes": [],
            "_model_name": "HBoxModel",
            "_view_module": "@jupyter-widgets/controls",
            "_model_module_version": "1.5.0",
            "_view_count": null,
            "_view_module_version": "1.5.0",
            "box_style": "",
            "layout": "IPY_MODEL_c1d2731e23e04cdd93fd72e5e2096adf",
            "_model_module": "@jupyter-widgets/controls",
            "children": [
              "IPY_MODEL_480318ed7f1248f7adcdb1426c9156b2",
              "IPY_MODEL_79f3681a772d4a9f895cd8b998687b09"
            ]
          }
        },
        "c1d2731e23e04cdd93fd72e5e2096adf": {
          "model_module": "@jupyter-widgets/base",
          "model_name": "LayoutModel",
          "state": {
            "_view_name": "LayoutView",
            "grid_template_rows": null,
            "right": null,
            "justify_content": null,
            "_view_module": "@jupyter-widgets/base",
            "overflow": null,
            "_model_module_version": "1.2.0",
            "_view_count": null,
            "flex_flow": null,
            "width": null,
            "min_width": null,
            "border": null,
            "align_items": null,
            "bottom": null,
            "_model_module": "@jupyter-widgets/base",
            "top": null,
            "grid_column": null,
            "overflow_y": null,
            "overflow_x": null,
            "grid_auto_flow": null,
            "grid_area": null,
            "grid_template_columns": null,
            "flex": null,
            "_model_name": "LayoutModel",
            "justify_items": null,
            "grid_row": null,
            "max_height": null,
            "align_content": null,
            "visibility": null,
            "align_self": null,
            "height": null,
            "min_height": null,
            "padding": null,
            "grid_auto_rows": null,
            "grid_gap": null,
            "max_width": null,
            "order": null,
            "_view_module_version": "1.2.0",
            "grid_template_areas": null,
            "object_position": null,
            "object_fit": null,
            "grid_auto_columns": null,
            "margin": null,
            "display": null,
            "left": null
          }
        },
        "480318ed7f1248f7adcdb1426c9156b2": {
          "model_module": "@jupyter-widgets/controls",
          "model_name": "FloatProgressModel",
          "state": {
            "_view_name": "ProgressView",
            "style": "IPY_MODEL_392178be55ea4cf288707bdc82decc72",
            "_dom_classes": [],
            "description": "Downloading: 100%",
            "_model_name": "FloatProgressModel",
            "bar_style": "success",
            "max": 1199,
            "_view_module": "@jupyter-widgets/controls",
            "_model_module_version": "1.5.0",
            "value": 1199,
            "_view_count": null,
            "_view_module_version": "1.5.0",
            "orientation": "horizontal",
            "min": 0,
            "description_tooltip": null,
            "_model_module": "@jupyter-widgets/controls",
            "layout": "IPY_MODEL_a6b5acdf697841af94479b8255dc669b"
          }
        },
        "79f3681a772d4a9f895cd8b998687b09": {
          "model_module": "@jupyter-widgets/controls",
          "model_name": "HTMLModel",
          "state": {
            "_view_name": "HTMLView",
            "style": "IPY_MODEL_caee8447206a49b9a25035d5c7969aa3",
            "_dom_classes": [],
            "description": "",
            "_model_name": "HTMLModel",
            "placeholder": "​",
            "_view_module": "@jupyter-widgets/controls",
            "_model_module_version": "1.5.0",
            "value": " 1.20k/1.20k [00:00&lt;00:00, 31.4kB/s]",
            "_view_count": null,
            "_view_module_version": "1.5.0",
            "description_tooltip": null,
            "_model_module": "@jupyter-widgets/controls",
            "layout": "IPY_MODEL_dfde3b292c784acb8c019f22c01f6835"
          }
        },
        "392178be55ea4cf288707bdc82decc72": {
          "model_module": "@jupyter-widgets/controls",
          "model_name": "ProgressStyleModel",
          "state": {
            "_view_name": "StyleView",
            "_model_name": "ProgressStyleModel",
            "description_width": "initial",
            "_view_module": "@jupyter-widgets/base",
            "_model_module_version": "1.5.0",
            "_view_count": null,
            "_view_module_version": "1.2.0",
            "bar_color": null,
            "_model_module": "@jupyter-widgets/controls"
          }
        },
        "a6b5acdf697841af94479b8255dc669b": {
          "model_module": "@jupyter-widgets/base",
          "model_name": "LayoutModel",
          "state": {
            "_view_name": "LayoutView",
            "grid_template_rows": null,
            "right": null,
            "justify_content": null,
            "_view_module": "@jupyter-widgets/base",
            "overflow": null,
            "_model_module_version": "1.2.0",
            "_view_count": null,
            "flex_flow": null,
            "width": null,
            "min_width": null,
            "border": null,
            "align_items": null,
            "bottom": null,
            "_model_module": "@jupyter-widgets/base",
            "top": null,
            "grid_column": null,
            "overflow_y": null,
            "overflow_x": null,
            "grid_auto_flow": null,
            "grid_area": null,
            "grid_template_columns": null,
            "flex": null,
            "_model_name": "LayoutModel",
            "justify_items": null,
            "grid_row": null,
            "max_height": null,
            "align_content": null,
            "visibility": null,
            "align_self": null,
            "height": null,
            "min_height": null,
            "padding": null,
            "grid_auto_rows": null,
            "grid_gap": null,
            "max_width": null,
            "order": null,
            "_view_module_version": "1.2.0",
            "grid_template_areas": null,
            "object_position": null,
            "object_fit": null,
            "grid_auto_columns": null,
            "margin": null,
            "display": null,
            "left": null
          }
        },
        "caee8447206a49b9a25035d5c7969aa3": {
          "model_module": "@jupyter-widgets/controls",
          "model_name": "DescriptionStyleModel",
          "state": {
            "_view_name": "StyleView",
            "_model_name": "DescriptionStyleModel",
            "description_width": "",
            "_view_module": "@jupyter-widgets/base",
            "_model_module_version": "1.5.0",
            "_view_count": null,
            "_view_module_version": "1.2.0",
            "_model_module": "@jupyter-widgets/controls"
          }
        },
        "dfde3b292c784acb8c019f22c01f6835": {
          "model_module": "@jupyter-widgets/base",
          "model_name": "LayoutModel",
          "state": {
            "_view_name": "LayoutView",
            "grid_template_rows": null,
            "right": null,
            "justify_content": null,
            "_view_module": "@jupyter-widgets/base",
            "overflow": null,
            "_model_module_version": "1.2.0",
            "_view_count": null,
            "flex_flow": null,
            "width": null,
            "min_width": null,
            "border": null,
            "align_items": null,
            "bottom": null,
            "_model_module": "@jupyter-widgets/base",
            "top": null,
            "grid_column": null,
            "overflow_y": null,
            "overflow_x": null,
            "grid_auto_flow": null,
            "grid_area": null,
            "grid_template_columns": null,
            "flex": null,
            "_model_name": "LayoutModel",
            "justify_items": null,
            "grid_row": null,
            "max_height": null,
            "align_content": null,
            "visibility": null,
            "align_self": null,
            "height": null,
            "min_height": null,
            "padding": null,
            "grid_auto_rows": null,
            "grid_gap": null,
            "max_width": null,
            "order": null,
            "_view_module_version": "1.2.0",
            "grid_template_areas": null,
            "object_position": null,
            "object_fit": null,
            "grid_auto_columns": null,
            "margin": null,
            "display": null,
            "left": null
          }
        },
        "199a287e8d2644dfac9faeeb0bf72c46": {
          "model_module": "@jupyter-widgets/controls",
          "model_name": "HBoxModel",
          "state": {
            "_view_name": "HBoxView",
            "_dom_classes": [],
            "_model_name": "HBoxModel",
            "_view_module": "@jupyter-widgets/controls",
            "_model_module_version": "1.5.0",
            "_view_count": null,
            "_view_module_version": "1.5.0",
            "box_style": "",
            "layout": "IPY_MODEL_ffae03ba5d6f4d279b54dcb9ae672199",
            "_model_module": "@jupyter-widgets/controls",
            "children": [
              "IPY_MODEL_84444932903f417cbb5a5f6207f8217e",
              "IPY_MODEL_3ef765a37f894b58a2a9e10c39a52ab4"
            ]
          }
        },
        "ffae03ba5d6f4d279b54dcb9ae672199": {
          "model_module": "@jupyter-widgets/base",
          "model_name": "LayoutModel",
          "state": {
            "_view_name": "LayoutView",
            "grid_template_rows": null,
            "right": null,
            "justify_content": null,
            "_view_module": "@jupyter-widgets/base",
            "overflow": null,
            "_model_module_version": "1.2.0",
            "_view_count": null,
            "flex_flow": null,
            "width": null,
            "min_width": null,
            "border": null,
            "align_items": null,
            "bottom": null,
            "_model_module": "@jupyter-widgets/base",
            "top": null,
            "grid_column": null,
            "overflow_y": null,
            "overflow_x": null,
            "grid_auto_flow": null,
            "grid_area": null,
            "grid_template_columns": null,
            "flex": null,
            "_model_name": "LayoutModel",
            "justify_items": null,
            "grid_row": null,
            "max_height": null,
            "align_content": null,
            "visibility": null,
            "align_self": null,
            "height": null,
            "min_height": null,
            "padding": null,
            "grid_auto_rows": null,
            "grid_gap": null,
            "max_width": null,
            "order": null,
            "_view_module_version": "1.2.0",
            "grid_template_areas": null,
            "object_position": null,
            "object_fit": null,
            "grid_auto_columns": null,
            "margin": null,
            "display": null,
            "left": null
          }
        },
        "84444932903f417cbb5a5f6207f8217e": {
          "model_module": "@jupyter-widgets/controls",
          "model_name": "FloatProgressModel",
          "state": {
            "_view_name": "ProgressView",
            "style": "IPY_MODEL_3fc57ea327b34120a0c49db4dfe498d7",
            "_dom_classes": [],
            "description": "Downloading: 100%",
            "_model_name": "FloatProgressModel",
            "bar_style": "success",
            "max": 891691430,
            "_view_module": "@jupyter-widgets/controls",
            "_model_module_version": "1.5.0",
            "value": 891691430,
            "_view_count": null,
            "_view_module_version": "1.5.0",
            "orientation": "horizontal",
            "min": 0,
            "description_tooltip": null,
            "_model_module": "@jupyter-widgets/controls",
            "layout": "IPY_MODEL_7b6d3b91b54e43ec967f650458ad5ff0"
          }
        },
        "3ef765a37f894b58a2a9e10c39a52ab4": {
          "model_module": "@jupyter-widgets/controls",
          "model_name": "HTMLModel",
          "state": {
            "_view_name": "HTMLView",
            "style": "IPY_MODEL_365d9b277a064fea8d72482bfdd1267d",
            "_dom_classes": [],
            "description": "",
            "_model_name": "HTMLModel",
            "placeholder": "​",
            "_view_module": "@jupyter-widgets/controls",
            "_model_module_version": "1.5.0",
            "value": " 892M/892M [00:12&lt;00:00, 72.7MB/s]",
            "_view_count": null,
            "_view_module_version": "1.5.0",
            "description_tooltip": null,
            "_model_module": "@jupyter-widgets/controls",
            "layout": "IPY_MODEL_10b7f73d2998438084c093420114bcf4"
          }
        },
        "3fc57ea327b34120a0c49db4dfe498d7": {
          "model_module": "@jupyter-widgets/controls",
          "model_name": "ProgressStyleModel",
          "state": {
            "_view_name": "StyleView",
            "_model_name": "ProgressStyleModel",
            "description_width": "initial",
            "_view_module": "@jupyter-widgets/base",
            "_model_module_version": "1.5.0",
            "_view_count": null,
            "_view_module_version": "1.2.0",
            "bar_color": null,
            "_model_module": "@jupyter-widgets/controls"
          }
        },
        "7b6d3b91b54e43ec967f650458ad5ff0": {
          "model_module": "@jupyter-widgets/base",
          "model_name": "LayoutModel",
          "state": {
            "_view_name": "LayoutView",
            "grid_template_rows": null,
            "right": null,
            "justify_content": null,
            "_view_module": "@jupyter-widgets/base",
            "overflow": null,
            "_model_module_version": "1.2.0",
            "_view_count": null,
            "flex_flow": null,
            "width": null,
            "min_width": null,
            "border": null,
            "align_items": null,
            "bottom": null,
            "_model_module": "@jupyter-widgets/base",
            "top": null,
            "grid_column": null,
            "overflow_y": null,
            "overflow_x": null,
            "grid_auto_flow": null,
            "grid_area": null,
            "grid_template_columns": null,
            "flex": null,
            "_model_name": "LayoutModel",
            "justify_items": null,
            "grid_row": null,
            "max_height": null,
            "align_content": null,
            "visibility": null,
            "align_self": null,
            "height": null,
            "min_height": null,
            "padding": null,
            "grid_auto_rows": null,
            "grid_gap": null,
            "max_width": null,
            "order": null,
            "_view_module_version": "1.2.0",
            "grid_template_areas": null,
            "object_position": null,
            "object_fit": null,
            "grid_auto_columns": null,
            "margin": null,
            "display": null,
            "left": null
          }
        },
        "365d9b277a064fea8d72482bfdd1267d": {
          "model_module": "@jupyter-widgets/controls",
          "model_name": "DescriptionStyleModel",
          "state": {
            "_view_name": "StyleView",
            "_model_name": "DescriptionStyleModel",
            "description_width": "",
            "_view_module": "@jupyter-widgets/base",
            "_model_module_version": "1.5.0",
            "_view_count": null,
            "_view_module_version": "1.2.0",
            "_model_module": "@jupyter-widgets/controls"
          }
        },
        "10b7f73d2998438084c093420114bcf4": {
          "model_module": "@jupyter-widgets/base",
          "model_name": "LayoutModel",
          "state": {
            "_view_name": "LayoutView",
            "grid_template_rows": null,
            "right": null,
            "justify_content": null,
            "_view_module": "@jupyter-widgets/base",
            "overflow": null,
            "_model_module_version": "1.2.0",
            "_view_count": null,
            "flex_flow": null,
            "width": null,
            "min_width": null,
            "border": null,
            "align_items": null,
            "bottom": null,
            "_model_module": "@jupyter-widgets/base",
            "top": null,
            "grid_column": null,
            "overflow_y": null,
            "overflow_x": null,
            "grid_auto_flow": null,
            "grid_area": null,
            "grid_template_columns": null,
            "flex": null,
            "_model_name": "LayoutModel",
            "justify_items": null,
            "grid_row": null,
            "max_height": null,
            "align_content": null,
            "visibility": null,
            "align_self": null,
            "height": null,
            "min_height": null,
            "padding": null,
            "grid_auto_rows": null,
            "grid_gap": null,
            "max_width": null,
            "order": null,
            "_view_module_version": "1.2.0",
            "grid_template_areas": null,
            "object_position": null,
            "object_fit": null,
            "grid_auto_columns": null,
            "margin": null,
            "display": null,
            "left": null
          }
        },
        "cf269500300f47929e77de3c5e41f16d": {
          "model_module": "@jupyter-widgets/controls",
          "model_name": "HBoxModel",
          "state": {
            "_view_name": "HBoxView",
            "_dom_classes": [],
            "_model_name": "HBoxModel",
            "_view_module": "@jupyter-widgets/controls",
            "_model_module_version": "1.5.0",
            "_view_count": null,
            "_view_module_version": "1.5.0",
            "box_style": "",
            "layout": "IPY_MODEL_b62337b8cf7945ca95a839bdbdbca2e1",
            "_model_module": "@jupyter-widgets/controls",
            "children": [
              "IPY_MODEL_cddedd6e4b054c11bdc9fcd6a25fcaa3",
              "IPY_MODEL_d89fb86c801e4246bfaf9541e813ce17"
            ]
          }
        },
        "b62337b8cf7945ca95a839bdbdbca2e1": {
          "model_module": "@jupyter-widgets/base",
          "model_name": "LayoutModel",
          "state": {
            "_view_name": "LayoutView",
            "grid_template_rows": null,
            "right": null,
            "justify_content": null,
            "_view_module": "@jupyter-widgets/base",
            "overflow": null,
            "_model_module_version": "1.2.0",
            "_view_count": null,
            "flex_flow": null,
            "width": null,
            "min_width": null,
            "border": null,
            "align_items": null,
            "bottom": null,
            "_model_module": "@jupyter-widgets/base",
            "top": null,
            "grid_column": null,
            "overflow_y": null,
            "overflow_x": null,
            "grid_auto_flow": null,
            "grid_area": null,
            "grid_template_columns": null,
            "flex": null,
            "_model_name": "LayoutModel",
            "justify_items": null,
            "grid_row": null,
            "max_height": null,
            "align_content": null,
            "visibility": null,
            "align_self": null,
            "height": null,
            "min_height": null,
            "padding": null,
            "grid_auto_rows": null,
            "grid_gap": null,
            "max_width": null,
            "order": null,
            "_view_module_version": "1.2.0",
            "grid_template_areas": null,
            "object_position": null,
            "object_fit": null,
            "grid_auto_columns": null,
            "margin": null,
            "display": null,
            "left": null
          }
        },
        "cddedd6e4b054c11bdc9fcd6a25fcaa3": {
          "model_module": "@jupyter-widgets/controls",
          "model_name": "FloatProgressModel",
          "state": {
            "_view_name": "ProgressView",
            "style": "IPY_MODEL_e734e9437ef14a3da8434cfae8edeed3",
            "_dom_classes": [],
            "description": "Downloading: 100%",
            "_model_name": "FloatProgressModel",
            "bar_style": "success",
            "max": 791656,
            "_view_module": "@jupyter-widgets/controls",
            "_model_module_version": "1.5.0",
            "value": 791656,
            "_view_count": null,
            "_view_module_version": "1.5.0",
            "orientation": "horizontal",
            "min": 0,
            "description_tooltip": null,
            "_model_module": "@jupyter-widgets/controls",
            "layout": "IPY_MODEL_e70090aa440c4c3da5441def5c1a6023"
          }
        },
        "d89fb86c801e4246bfaf9541e813ce17": {
          "model_module": "@jupyter-widgets/controls",
          "model_name": "HTMLModel",
          "state": {
            "_view_name": "HTMLView",
            "style": "IPY_MODEL_ec27cfc416b2428ba6ea454aa70f5e0d",
            "_dom_classes": [],
            "description": "",
            "_model_name": "HTMLModel",
            "placeholder": "​",
            "_view_module": "@jupyter-widgets/controls",
            "_model_module_version": "1.5.0",
            "value": " 792k/792k [00:03&lt;00:00, 255kB/s]",
            "_view_count": null,
            "_view_module_version": "1.5.0",
            "description_tooltip": null,
            "_model_module": "@jupyter-widgets/controls",
            "layout": "IPY_MODEL_caa62c57bc7e4b37b58c1a654c47d14b"
          }
        },
        "e734e9437ef14a3da8434cfae8edeed3": {
          "model_module": "@jupyter-widgets/controls",
          "model_name": "ProgressStyleModel",
          "state": {
            "_view_name": "StyleView",
            "_model_name": "ProgressStyleModel",
            "description_width": "initial",
            "_view_module": "@jupyter-widgets/base",
            "_model_module_version": "1.5.0",
            "_view_count": null,
            "_view_module_version": "1.2.0",
            "bar_color": null,
            "_model_module": "@jupyter-widgets/controls"
          }
        },
        "e70090aa440c4c3da5441def5c1a6023": {
          "model_module": "@jupyter-widgets/base",
          "model_name": "LayoutModel",
          "state": {
            "_view_name": "LayoutView",
            "grid_template_rows": null,
            "right": null,
            "justify_content": null,
            "_view_module": "@jupyter-widgets/base",
            "overflow": null,
            "_model_module_version": "1.2.0",
            "_view_count": null,
            "flex_flow": null,
            "width": null,
            "min_width": null,
            "border": null,
            "align_items": null,
            "bottom": null,
            "_model_module": "@jupyter-widgets/base",
            "top": null,
            "grid_column": null,
            "overflow_y": null,
            "overflow_x": null,
            "grid_auto_flow": null,
            "grid_area": null,
            "grid_template_columns": null,
            "flex": null,
            "_model_name": "LayoutModel",
            "justify_items": null,
            "grid_row": null,
            "max_height": null,
            "align_content": null,
            "visibility": null,
            "align_self": null,
            "height": null,
            "min_height": null,
            "padding": null,
            "grid_auto_rows": null,
            "grid_gap": null,
            "max_width": null,
            "order": null,
            "_view_module_version": "1.2.0",
            "grid_template_areas": null,
            "object_position": null,
            "object_fit": null,
            "grid_auto_columns": null,
            "margin": null,
            "display": null,
            "left": null
          }
        },
        "ec27cfc416b2428ba6ea454aa70f5e0d": {
          "model_module": "@jupyter-widgets/controls",
          "model_name": "DescriptionStyleModel",
          "state": {
            "_view_name": "StyleView",
            "_model_name": "DescriptionStyleModel",
            "description_width": "",
            "_view_module": "@jupyter-widgets/base",
            "_model_module_version": "1.5.0",
            "_view_count": null,
            "_view_module_version": "1.2.0",
            "_model_module": "@jupyter-widgets/controls"
          }
        },
        "caa62c57bc7e4b37b58c1a654c47d14b": {
          "model_module": "@jupyter-widgets/base",
          "model_name": "LayoutModel",
          "state": {
            "_view_name": "LayoutView",
            "grid_template_rows": null,
            "right": null,
            "justify_content": null,
            "_view_module": "@jupyter-widgets/base",
            "overflow": null,
            "_model_module_version": "1.2.0",
            "_view_count": null,
            "flex_flow": null,
            "width": null,
            "min_width": null,
            "border": null,
            "align_items": null,
            "bottom": null,
            "_model_module": "@jupyter-widgets/base",
            "top": null,
            "grid_column": null,
            "overflow_y": null,
            "overflow_x": null,
            "grid_auto_flow": null,
            "grid_area": null,
            "grid_template_columns": null,
            "flex": null,
            "_model_name": "LayoutModel",
            "justify_items": null,
            "grid_row": null,
            "max_height": null,
            "align_content": null,
            "visibility": null,
            "align_self": null,
            "height": null,
            "min_height": null,
            "padding": null,
            "grid_auto_rows": null,
            "grid_gap": null,
            "max_width": null,
            "order": null,
            "_view_module_version": "1.2.0",
            "grid_template_areas": null,
            "object_position": null,
            "object_fit": null,
            "grid_auto_columns": null,
            "margin": null,
            "display": null,
            "left": null
          }
        }
      }
    }
  },
  "cells": [
    {
      "cell_type": "code",
      "metadata": {
        "colab": {
          "base_uri": "https://localhost:8080/",
          "height": 34
        },
        "id": "ioRiVZfsh_mh",
        "outputId": "f3c62e36-9c2d-4d70-b3be-d4f26531a5e3"
      },
      "source": [
        "%autosave 5"
      ],
      "execution_count": null,
      "outputs": [
        {
          "output_type": "display_data",
          "data": {
            "application/javascript": [
              "IPython.notebook.set_autosave_interval(5000)"
            ]
          },
          "metadata": {
            "tags": []
          }
        },
        {
          "output_type": "stream",
          "text": [
            "Autosaving every 5 seconds\n"
          ],
          "name": "stdout"
        }
      ]
    },
    {
      "cell_type": "code",
      "metadata": {
        "id": "Ewol74IqiE0A",
        "colab": {
          "base_uri": "https://localhost:8080/"
        },
        "outputId": "a2403b73-e14b-4d5e-d9ff-223eb5f34fc5"
      },
      "source": [
        "from google.colab import drive\n",
        "drive.mount(\"/content/drive\", force_remount=True)"
      ],
      "execution_count": null,
      "outputs": [
        {
          "output_type": "stream",
          "text": [
            "Mounted at /content/drive\n"
          ],
          "name": "stdout"
        }
      ]
    },
    {
      "cell_type": "code",
      "metadata": {
        "id": "mSlrMhYfiMPN"
      },
      "source": [
        "import os\n",
        "import re\n",
        "import string\n",
        "import pandas as pd\n",
        "from functools import reduce\n",
        "from math import log\n",
        "import numpy as np"
      ],
      "execution_count": null,
      "outputs": []
    },
    {
      "cell_type": "code",
      "metadata": {
        "colab": {
          "base_uri": "https://localhost:8080/"
        },
        "id": "_k3OTd1gYdD8",
        "outputId": "be70c007-8132-4ebb-f369-964c2ca86ad8"
      },
      "source": [
        "!pip3 install transformers torch"
      ],
      "execution_count": null,
      "outputs": [
        {
          "output_type": "stream",
          "text": [
            "Collecting transformers\n",
            "\u001b[?25l  Downloading https://files.pythonhosted.org/packages/3a/83/e74092e7f24a08d751aa59b37a9fc572b2e4af3918cb66f7766c3affb1b4/transformers-3.5.1-py3-none-any.whl (1.3MB)\n",
            "\u001b[K     |████████████████████████████████| 1.3MB 8.6MB/s \n",
            "\u001b[?25hRequirement already satisfied: torch in /usr/local/lib/python3.6/dist-packages (1.7.0+cu101)\n",
            "Requirement already satisfied: filelock in /usr/local/lib/python3.6/dist-packages (from transformers) (3.0.12)\n",
            "Requirement already satisfied: protobuf in /usr/local/lib/python3.6/dist-packages (from transformers) (3.12.4)\n",
            "Requirement already satisfied: requests in /usr/local/lib/python3.6/dist-packages (from transformers) (2.23.0)\n",
            "Requirement already satisfied: dataclasses; python_version < \"3.7\" in /usr/local/lib/python3.6/dist-packages (from transformers) (0.8)\n",
            "Requirement already satisfied: numpy in /usr/local/lib/python3.6/dist-packages (from transformers) (1.18.5)\n",
            "Collecting sentencepiece==0.1.91\n",
            "\u001b[?25l  Downloading https://files.pythonhosted.org/packages/d4/a4/d0a884c4300004a78cca907a6ff9a5e9fe4f090f5d95ab341c53d28cbc58/sentencepiece-0.1.91-cp36-cp36m-manylinux1_x86_64.whl (1.1MB)\n",
            "\u001b[K     |████████████████████████████████| 1.1MB 24.4MB/s \n",
            "\u001b[?25hRequirement already satisfied: packaging in /usr/local/lib/python3.6/dist-packages (from transformers) (20.4)\n",
            "Requirement already satisfied: tqdm>=4.27 in /usr/local/lib/python3.6/dist-packages (from transformers) (4.41.1)\n",
            "Collecting sacremoses\n",
            "\u001b[?25l  Downloading https://files.pythonhosted.org/packages/7d/34/09d19aff26edcc8eb2a01bed8e98f13a1537005d31e95233fd48216eed10/sacremoses-0.0.43.tar.gz (883kB)\n",
            "\u001b[K     |████████████████████████████████| 890kB 32.3MB/s \n",
            "\u001b[?25hRequirement already satisfied: regex!=2019.12.17 in /usr/local/lib/python3.6/dist-packages (from transformers) (2019.12.20)\n",
            "Collecting tokenizers==0.9.3\n",
            "\u001b[?25l  Downloading https://files.pythonhosted.org/packages/4c/34/b39eb9994bc3c999270b69c9eea40ecc6f0e97991dba28282b9fd32d44ee/tokenizers-0.9.3-cp36-cp36m-manylinux1_x86_64.whl (2.9MB)\n",
            "\u001b[K     |████████████████████████████████| 2.9MB 45.7MB/s \n",
            "\u001b[?25hRequirement already satisfied: typing-extensions in /usr/local/lib/python3.6/dist-packages (from torch) (3.7.4.3)\n",
            "Requirement already satisfied: future in /usr/local/lib/python3.6/dist-packages (from torch) (0.16.0)\n",
            "Requirement already satisfied: setuptools in /usr/local/lib/python3.6/dist-packages (from protobuf->transformers) (50.3.2)\n",
            "Requirement already satisfied: six>=1.9 in /usr/local/lib/python3.6/dist-packages (from protobuf->transformers) (1.15.0)\n",
            "Requirement already satisfied: urllib3!=1.25.0,!=1.25.1,<1.26,>=1.21.1 in /usr/local/lib/python3.6/dist-packages (from requests->transformers) (1.24.3)\n",
            "Requirement already satisfied: chardet<4,>=3.0.2 in /usr/local/lib/python3.6/dist-packages (from requests->transformers) (3.0.4)\n",
            "Requirement already satisfied: certifi>=2017.4.17 in /usr/local/lib/python3.6/dist-packages (from requests->transformers) (2020.11.8)\n",
            "Requirement already satisfied: idna<3,>=2.5 in /usr/local/lib/python3.6/dist-packages (from requests->transformers) (2.10)\n",
            "Requirement already satisfied: pyparsing>=2.0.2 in /usr/local/lib/python3.6/dist-packages (from packaging->transformers) (2.4.7)\n",
            "Requirement already satisfied: click in /usr/local/lib/python3.6/dist-packages (from sacremoses->transformers) (7.1.2)\n",
            "Requirement already satisfied: joblib in /usr/local/lib/python3.6/dist-packages (from sacremoses->transformers) (0.17.0)\n",
            "Building wheels for collected packages: sacremoses\n",
            "  Building wheel for sacremoses (setup.py) ... \u001b[?25l\u001b[?25hdone\n",
            "  Created wheel for sacremoses: filename=sacremoses-0.0.43-cp36-none-any.whl size=893257 sha256=bbbd141b386a217bdaf26e9ccc1e5c78b344d64404e2fa9d5f7f47d49e90e77c\n",
            "  Stored in directory: /root/.cache/pip/wheels/29/3c/fd/7ce5c3f0666dab31a50123635e6fb5e19ceb42ce38d4e58f45\n",
            "Successfully built sacremoses\n",
            "Installing collected packages: sentencepiece, sacremoses, tokenizers, transformers\n",
            "Successfully installed sacremoses-0.0.43 sentencepiece-0.1.91 tokenizers-0.9.3 transformers-3.5.1\n"
          ],
          "name": "stdout"
        }
      ]
    },
    {
      "cell_type": "code",
      "metadata": {
        "id": "shWhkzlohuK4",
        "colab": {
          "base_uri": "https://localhost:8080/",
          "height": 299
        },
        "outputId": "8420bef9-5a04-41eb-f1d9-d0d11bbc497c"
      },
      "source": [
        "multi = pd.read_csv(\"/content/drive/MyDrive/Anushree/for_summar_bert.csv\")\n",
        "multi.head()"
      ],
      "execution_count": null,
      "outputs": [
        {
          "output_type": "execute_result",
          "data": {
            "text/html": [
              "<div>\n",
              "<style scoped>\n",
              "    .dataframe tbody tr th:only-of-type {\n",
              "        vertical-align: middle;\n",
              "    }\n",
              "\n",
              "    .dataframe tbody tr th {\n",
              "        vertical-align: top;\n",
              "    }\n",
              "\n",
              "    .dataframe thead th {\n",
              "        text-align: right;\n",
              "    }\n",
              "</style>\n",
              "<table border=\"1\" class=\"dataframe\">\n",
              "  <thead>\n",
              "    <tr style=\"text-align: right;\">\n",
              "      <th></th>\n",
              "      <th>Unnamed: 0</th>\n",
              "      <th>mixed_doc</th>\n",
              "      <th>health</th>\n",
              "      <th>sports</th>\n",
              "      <th>politics</th>\n",
              "      <th>food</th>\n",
              "    </tr>\n",
              "  </thead>\n",
              "  <tbody>\n",
              "    <tr>\n",
              "      <th>0</th>\n",
              "      <td>361</td>\n",
              "      <td>BACKGROUND.\\nThe Citroen driver, competing in ...</td>\n",
              "      <td>the three-dimensional  structures of proteins ...</td>\n",
              "      <td>The Citroen driver, competing in the first of ...</td>\n",
              "      <td>NaN</td>\n",
              "      <td>BACKGROUND.\\nRESULTS.\\nCONCLUSIONS.</td>\n",
              "    </tr>\n",
              "    <tr>\n",
              "      <th>1</th>\n",
              "      <td>73</td>\n",
              "      <td>AwesomeAlways a crowd pleaser!&lt;br /&gt;I love thi...</td>\n",
              "      <td>dna sequencing technologies have enabled us to...</td>\n",
              "      <td>It's expected to get signed by President Barac...</td>\n",
              "      <td>Congress's Christmas present to corporate Amer...</td>\n",
              "      <td>AwesomeAlways a crowd pleaser!&lt;br /&gt;I love thi...</td>\n",
              "    </tr>\n",
              "    <tr>\n",
              "      <th>2</th>\n",
              "      <td>374</td>\n",
              "      <td>BACKGROUND.\\nObama sounded skeptical about Key...</td>\n",
              "      <td>a key aim of evolutionary biology is to unders...</td>\n",
              "      <td>The 21-year-old was held by Northumbria Police...</td>\n",
              "      <td>Obama sounded skeptical about Keystone XL on t...</td>\n",
              "      <td>BACKGROUND.\\nEssentially, this is Canadian oil...</td>\n",
              "    </tr>\n",
              "    <tr>\n",
              "      <th>3</th>\n",
              "      <td>155</td>\n",
              "      <td>The GOP's latest Obamacare \"fix\" will be a tot...</td>\n",
              "      <td>that while working slightly more than 40 hours...</td>\n",
              "      <td>''The winner was very good today; we were seco...</td>\n",
              "      <td>The GOP's latest Obamacare \"fix\" will be a tot...</td>\n",
              "      <td>I wish them all to have this feeling sometime .</td>\n",
              "    </tr>\n",
              "    <tr>\n",
              "      <th>4</th>\n",
              "      <td>104</td>\n",
              "      <td>BACKGROUND.\\nWhy Congress is broken: tax exten...</td>\n",
              "      <td>in the early eighteenth century, linnaeus prov...</td>\n",
              "      <td>Allardyce's current deal expires at the end of...</td>\n",
              "      <td>Why Congress is broken: tax extenders edition....</td>\n",
              "      <td>BACKGROUND.\\nPOP Chips on the goIf you haven't...</td>\n",
              "    </tr>\n",
              "  </tbody>\n",
              "</table>\n",
              "</div>"
            ],
            "text/plain": [
              "   Unnamed: 0  ...                                               food\n",
              "0         361  ...                BACKGROUND.\\nRESULTS.\\nCONCLUSIONS.\n",
              "1          73  ...  AwesomeAlways a crowd pleaser!<br />I love thi...\n",
              "2         374  ...  BACKGROUND.\\nEssentially, this is Canadian oil...\n",
              "3         155  ...    I wish them all to have this feeling sometime .\n",
              "4         104  ...  BACKGROUND.\\nPOP Chips on the goIf you haven't...\n",
              "\n",
              "[5 rows x 6 columns]"
            ]
          },
          "metadata": {
            "tags": []
          },
          "execution_count": 87
        }
      ]
    },
    {
      "cell_type": "code",
      "metadata": {
        "id": "Y098D4Q0hrkI"
      },
      "source": [
        "Data = multi"
      ],
      "execution_count": null,
      "outputs": []
    },
    {
      "cell_type": "code",
      "metadata": {
        "colab": {
          "base_uri": "https://localhost:8080/",
          "height": 282
        },
        "id": "GxKu_w82iEBJ",
        "outputId": "b1369cfa-06a2-4e48-c079-e785c129bfee"
      },
      "source": [
        "import pandas as pd\n",
        "#{'Health':0, 'Sports':1, 'Politics':2, 'Food':3}\n",
        "Data = pd.DataFrame(k, \n",
        "               columns =['mixed_doc', 'health', 'sports', 'politics', 'food']) \n",
        "Data = Data.sample(frac = 1)\n",
        "Data.head(5)\n"
      ],
      "execution_count": null,
      "outputs": [
        {
          "output_type": "execute_result",
          "data": {
            "text/html": [
              "<div>\n",
              "<style scoped>\n",
              "    .dataframe tbody tr th:only-of-type {\n",
              "        vertical-align: middle;\n",
              "    }\n",
              "\n",
              "    .dataframe tbody tr th {\n",
              "        vertical-align: top;\n",
              "    }\n",
              "\n",
              "    .dataframe thead th {\n",
              "        text-align: right;\n",
              "    }\n",
              "</style>\n",
              "<table border=\"1\" class=\"dataframe\">\n",
              "  <thead>\n",
              "    <tr style=\"text-align: right;\">\n",
              "      <th></th>\n",
              "      <th>mixed_doc</th>\n",
              "      <th>health</th>\n",
              "      <th>sports</th>\n",
              "      <th>politics</th>\n",
              "      <th>food</th>\n",
              "    </tr>\n",
              "  </thead>\n",
              "  <tbody>\n",
              "    <tr>\n",
              "      <th>3</th>\n",
              "      <td>Obamacare cuts Medicaid doctor pay 42 percent ...</td>\n",
              "      <td>macroautophagy  is an evolutionarily conserved...</td>\n",
              "      <td>Jon Paul Morosi is a national MLB writer for F...</td>\n",
              "      <td>Obamacare cuts Medicaid doctor pay 42 percent ...</td>\n",
              "      <td>BACKGROUND.\\nMild sausagesI love this product ...</td>\n",
              "    </tr>\n",
              "    <tr>\n",
              "      <th>0</th>\n",
              "      <td>Very yummy!So far I've tried all of the flavor...</td>\n",
              "      <td>NaN</td>\n",
              "      <td>Just when it appeared the Los Angeles Lakers h...</td>\n",
              "      <td>(I remember it in general, though.\\nWhile ther...</td>\n",
              "      <td>Very yummy!So far I've tried all of the flavor...</td>\n",
              "    </tr>\n",
              "    <tr>\n",
              "      <th>2</th>\n",
              "      <td>Peanut Butter is back on the menu!Peanut butte...</td>\n",
              "      <td>NaN</td>\n",
              "      <td>Thirty years from now I dont think it will be ...</td>\n",
              "      <td>Can water markets help solve the American West...</td>\n",
              "      <td>Peanut Butter is back on the menu!Peanut butte...</td>\n",
              "    </tr>\n",
              "    <tr>\n",
              "      <th>4</th>\n",
              "      <td>One is not born, but rather becomes, a citizen...</td>\n",
              "      <td>noncoding rnas  are sequences that are transcr...</td>\n",
              "      <td>On a side note, we feed Diamond Naturals Beef ...</td>\n",
              "      <td>One is not born, but rather becomes, a citizen...</td>\n",
              "      <td>BACKGROUND.\\nCan't find the perfect Creme' Brl...</td>\n",
              "    </tr>\n",
              "    <tr>\n",
              "      <th>1</th>\n",
              "      <td>BACKGROUND.\\ntwo-component regulatory systems ...</td>\n",
              "      <td>two-component regulatory systems  are the most...</td>\n",
              "      <td>Ohio took away a womans welfare and food stamp...</td>\n",
              "      <td>Last May, Kimberly Thompson, a warehouse worke...</td>\n",
              "      <td>BACKGROUND.\\nGood Product- VERY Slow Super Sav...</td>\n",
              "    </tr>\n",
              "  </tbody>\n",
              "</table>\n",
              "</div>"
            ],
            "text/plain": [
              "                                           mixed_doc  ...                                               food\n",
              "3  Obamacare cuts Medicaid doctor pay 42 percent ...  ...  BACKGROUND.\\nMild sausagesI love this product ...\n",
              "0  Very yummy!So far I've tried all of the flavor...  ...  Very yummy!So far I've tried all of the flavor...\n",
              "2  Peanut Butter is back on the menu!Peanut butte...  ...  Peanut Butter is back on the menu!Peanut butte...\n",
              "4  One is not born, but rather becomes, a citizen...  ...  BACKGROUND.\\nCan't find the perfect Creme' Brl...\n",
              "1  BACKGROUND.\\ntwo-component regulatory systems ...  ...  BACKGROUND.\\nGood Product- VERY Slow Super Sav...\n",
              "\n",
              "[5 rows x 5 columns]"
            ]
          },
          "metadata": {
            "tags": []
          },
          "execution_count": 66
        }
      ]
    },
    {
      "cell_type": "code",
      "metadata": {
        "id": "lTK4uiqSZFeJ",
        "colab": {
          "base_uri": "https://localhost:8080/",
          "height": 164,
          "referenced_widgets": [
            "11038671d4104edfacfc3b6f08fc4791",
            "c1d2731e23e04cdd93fd72e5e2096adf",
            "480318ed7f1248f7adcdb1426c9156b2",
            "79f3681a772d4a9f895cd8b998687b09",
            "392178be55ea4cf288707bdc82decc72",
            "a6b5acdf697841af94479b8255dc669b",
            "caee8447206a49b9a25035d5c7969aa3",
            "dfde3b292c784acb8c019f22c01f6835",
            "199a287e8d2644dfac9faeeb0bf72c46",
            "ffae03ba5d6f4d279b54dcb9ae672199",
            "84444932903f417cbb5a5f6207f8217e",
            "3ef765a37f894b58a2a9e10c39a52ab4",
            "3fc57ea327b34120a0c49db4dfe498d7",
            "7b6d3b91b54e43ec967f650458ad5ff0",
            "365d9b277a064fea8d72482bfdd1267d",
            "10b7f73d2998438084c093420114bcf4",
            "cf269500300f47929e77de3c5e41f16d",
            "b62337b8cf7945ca95a839bdbdbca2e1",
            "cddedd6e4b054c11bdc9fcd6a25fcaa3",
            "d89fb86c801e4246bfaf9541e813ce17",
            "e734e9437ef14a3da8434cfae8edeed3",
            "e70090aa440c4c3da5441def5c1a6023",
            "ec27cfc416b2428ba6ea454aa70f5e0d",
            "caa62c57bc7e4b37b58c1a654c47d14b"
          ]
        },
        "outputId": "aca9ef79-d5b0-412a-cd08-b2d6a4bae80d"
      },
      "source": [
        "from transformers import T5ForConditionalGeneration, T5Tokenizer\n",
        "\n",
        "# initialize the model architecture and weights\n",
        "model = T5ForConditionalGeneration.from_pretrained(\"t5-base\")\n",
        "# initialize the model tokenizer\n",
        "tokenizer = T5Tokenizer.from_pretrained(\"t5-base\")"
      ],
      "execution_count": null,
      "outputs": [
        {
          "output_type": "display_data",
          "data": {
            "application/vnd.jupyter.widget-view+json": {
              "model_id": "11038671d4104edfacfc3b6f08fc4791",
              "version_minor": 0,
              "version_major": 2
            },
            "text/plain": [
              "HBox(children=(FloatProgress(value=0.0, description='Downloading', max=1199.0, style=ProgressStyle(description…"
            ]
          },
          "metadata": {
            "tags": []
          }
        },
        {
          "output_type": "stream",
          "text": [
            "\n"
          ],
          "name": "stdout"
        },
        {
          "output_type": "display_data",
          "data": {
            "application/vnd.jupyter.widget-view+json": {
              "model_id": "199a287e8d2644dfac9faeeb0bf72c46",
              "version_minor": 0,
              "version_major": 2
            },
            "text/plain": [
              "HBox(children=(FloatProgress(value=0.0, description='Downloading', max=891691430.0, style=ProgressStyle(descri…"
            ]
          },
          "metadata": {
            "tags": []
          }
        },
        {
          "output_type": "stream",
          "text": [
            "\n"
          ],
          "name": "stdout"
        },
        {
          "output_type": "display_data",
          "data": {
            "application/vnd.jupyter.widget-view+json": {
              "model_id": "cf269500300f47929e77de3c5e41f16d",
              "version_minor": 0,
              "version_major": 2
            },
            "text/plain": [
              "HBox(children=(FloatProgress(value=0.0, description='Downloading', max=791656.0, style=ProgressStyle(descripti…"
            ]
          },
          "metadata": {
            "tags": []
          }
        },
        {
          "output_type": "stream",
          "text": [
            "\n"
          ],
          "name": "stdout"
        }
      ]
    },
    {
      "cell_type": "code",
      "metadata": {
        "id": "Cdzst02p1W3O"
      },
      "source": [
        "j=1\n",
        "ind_accuracy=[]\n",
        "true_label = []\n",
        "pred_label = []\n",
        "col1 = []\n",
        "col2_0 = []\n",
        "col2_1 = []\n",
        "col2_2 = []\n",
        "col2_3  = []\n",
        "article_num=0\n",
        "dic = {0: col2_0, 1: col2_1, 2: col2_2, 3:col2_3}"
      ],
      "execution_count": null,
      "outputs": []
    },
    {
      "cell_type": "code",
      "metadata": {
        "id": "WYJYtmNYha7M"
      },
      "source": [
        "for index, row in Data.iterrows():\n",
        "    print('article_num',article_num)\n",
        "    article_num+=1\n",
        "    col1.append(row['mixed_doc'])\n",
        "    topic_separated_summary = [[] for _ in np.arange(4)]\n",
        "    Document= row['mixed_doc'].split(\"\\n\")\n",
        "\n",
        "    health = ' '\n",
        "    sports = ' '\n",
        "    politics = ' '\n",
        "    food = ' '\n",
        "    if (type(row['health'])!=float and len(row['health'].split(\"\\n\"))>3):\n",
        "      health = ' '.join(row['health'].split(\"\\n\"))\n",
        "      # print('0',health)\n",
        "    if (type(row['sports'])!=float and len(row['sports'].split(\"\\n\"))>3):\n",
        "      sports =  \" \".join(row['sports'].split(\"\\n\"))\n",
        "      # print('1',sports)\n",
        "    if (type(row['politics'])!=float and len(row['politics'].split(\"\\n\"))>3):\n",
        "      politics = \" \".join(row['politics'].split(\"\\n\"))\n",
        "      # print('2',politics)\n",
        "    if (type(row['food'])!=float and len(row['food'].split(\"\\n\"))>3):\n",
        "      food = \" \".join(row['food'].split(\"\\n\"))\n",
        "      # print('3',food)\n",
        "    # topic_separated_string = row['topic_separated_doc']\n",
        "    # topic_separated_string = topic_separated_string.replace(\"[\", \"\")\n",
        "    # topic_separated_string = topic_separated_string.replace(\"]\", \"\")\n",
        "    topic_separated_doc = [health, sports, politics, food]\n",
        "\n",
        "    # print(np.array(topic_separated_string).shape)\n",
        "    # print(np.array(topic_separated_doc).shape)\n",
        "\n",
        "    for i in np.arange(len(topic_separated_doc)):\n",
        "      if topic_separated_doc[i]!=' ':\n",
        "        # print(topic_separated_doc[i])\n",
        "        article = str(\" \".join(topic_separated_doc[i].split(\"\\n\")))\n",
        "        # print('article',article)\n",
        "        inputs = tokenizer.encode(\"summarize: \" + article, return_tensors=\"pt\", max_length=512, truncation=True)\n",
        "        # generate the summarization output\n",
        "        outputs = model.generate(\n",
        "            inputs, \n",
        "            max_length=150, \n",
        "            min_length=40, \n",
        "            length_penalty=2.0, \n",
        "            num_beams=4, \n",
        "            early_stopping=True)\n",
        "        # just for debugging\n",
        "        # print(outputs)\n",
        "        # print(\"Summary:\" ,tokenizer.decode(outputs[0]))\n",
        "        dic[i].append(tokenizer.decode(outputs[0]))\n",
        "      else:\n",
        "        dic[i].append(' ')\n",
        " \n",
        "      \n",
        "    # break"
      ],
      "execution_count": null,
      "outputs": []
    },
    {
      "cell_type": "code",
      "metadata": {
        "id": "uW37cGPq4dkG"
      },
      "source": [
        "print(np.array(col2_0).shape)\n",
        "print(np.array(col2_1).shape)\n",
        "print(np.array(col2_2).shape)\n",
        "print(np.array(col2_3).shape)"
      ],
      "execution_count": null,
      "outputs": []
    },
    {
      "cell_type": "code",
      "metadata": {
        "colab": {
          "base_uri": "https://localhost:8080/",
          "height": 282
        },
        "id": "Ww2lwzfDL3eQ",
        "outputId": "02eff036-446a-4e00-c9aa-c3d88ef46807"
      },
      "source": [
        "import pandas as pd\n",
        "#{'Health':0, 'Sports':1, 'Politics':2, 'Food':3}\n",
        "Data = pd.DataFrame(list(zip(col1,col2_0,col2_1,col2_2,col2_3)), \n",
        "               columns =['mixed_doc', 'health', 'sports', 'politics', 'food']) \n",
        "Data = Data.sample(frac = 1)\n",
        "Data.head(5)\n"
      ],
      "execution_count": null,
      "outputs": [
        {
          "output_type": "execute_result",
          "data": {
            "text/html": [
              "<div>\n",
              "<style scoped>\n",
              "    .dataframe tbody tr th:only-of-type {\n",
              "        vertical-align: middle;\n",
              "    }\n",
              "\n",
              "    .dataframe tbody tr th {\n",
              "        vertical-align: top;\n",
              "    }\n",
              "\n",
              "    .dataframe thead th {\n",
              "        text-align: right;\n",
              "    }\n",
              "</style>\n",
              "<table border=\"1\" class=\"dataframe\">\n",
              "  <thead>\n",
              "    <tr style=\"text-align: right;\">\n",
              "      <th></th>\n",
              "      <th>mixed_doc</th>\n",
              "      <th>health</th>\n",
              "      <th>sports</th>\n",
              "      <th>politics</th>\n",
              "      <th>food</th>\n",
              "    </tr>\n",
              "  </thead>\n",
              "  <tbody>\n",
              "    <tr>\n",
              "      <th>25</th>\n",
              "      <td>BACKGROUND.\\nAn MRI costs $1,145 in America an...</td>\n",
              "      <td>introduction of mass spectrometry provides mas...</td>\n",
              "      <td>the 19-year-old scored his fourth goal of a eu...</td>\n",
              "      <td>a knee replacement costs $25,398 in the u.s. a...</td>\n",
              "      <td>CONCLUSIONS. RESULTS. CONCLUSIONS. RESULTS. CO...</td>\n",
              "    </tr>\n",
              "    <tr>\n",
              "      <th>17</th>\n",
              "      <td>giftThis was a gift for someone that loves pop...</td>\n",
              "      <td></td>\n",
              "      <td>created by Mason Gordon, SlamBall was born out...</td>\n",
              "      <td>the court has changed a bit since, but the fun...</td>\n",
              "      <td>a glass of wine goes nicely with Spicy Thai ch...</td>\n",
              "    </tr>\n",
              "    <tr>\n",
              "      <th>8</th>\n",
              "      <td>The BestAbsolutely the best French Roast k-cup...</td>\n",
              "      <td>it is estimated that approximately  ⁇ dig&gt; pla...</td>\n",
              "      <td>angel reyna scored a superb goal for Pachuca a...</td>\n",
              "      <td>.................................................</td>\n",
              "      <td>i've tried various weights and water temps to ...</td>\n",
              "    </tr>\n",
              "    <tr>\n",
              "      <th>48</th>\n",
              "      <td>Great Mustard2Love this product.\\nVery flavora...</td>\n",
              "      <td></td>\n",
              "      <td>the 1994 Chargers lost 49-26 to the 49ers in s...</td>\n",
              "      <td>the 1994 Chargers quarterback died of a drug o...</td>\n",
              "      <td>my 6-month-old is a fanatic for these flavors!...</td>\n",
              "    </tr>\n",
              "    <tr>\n",
              "      <th>30</th>\n",
              "      <td>BACKGROUND.\\nSafe, easy to chew, tasty (for do...</td>\n",
              "      <td>enterobacter sakazakii was defined as a new sp...</td>\n",
              "      <td>the first-time all-star was hurt in a fight th...</td>\n",
              "      <td>.......................</td>\n",
              "      <td>geriatric mini poodle can't chew biscuits or r...</td>\n",
              "    </tr>\n",
              "  </tbody>\n",
              "</table>\n",
              "</div>"
            ],
            "text/plain": [
              "                                            mixed_doc  ...                                               food\n",
              "25  BACKGROUND.\\nAn MRI costs $1,145 in America an...  ...  CONCLUSIONS. RESULTS. CONCLUSIONS. RESULTS. CO...\n",
              "17  giftThis was a gift for someone that loves pop...  ...  a glass of wine goes nicely with Spicy Thai ch...\n",
              "8   The BestAbsolutely the best French Roast k-cup...  ...  i've tried various weights and water temps to ...\n",
              "48  Great Mustard2Love this product.\\nVery flavora...  ...  my 6-month-old is a fanatic for these flavors!...\n",
              "30  BACKGROUND.\\nSafe, easy to chew, tasty (for do...  ...  geriatric mini poodle can't chew biscuits or r...\n",
              "\n",
              "[5 rows x 5 columns]"
            ]
          },
          "metadata": {
            "tags": []
          },
          "execution_count": 95
        }
      ]
    },
    {
      "cell_type": "code",
      "metadata": {
        "id": "Je4q-A8go3dl"
      },
      "source": [
        "Data.to_csv(\"/content/drive/MyDrive/Anushree/done_summary_bert.csv\")"
      ],
      "execution_count": null,
      "outputs": []
    }
  ]
}